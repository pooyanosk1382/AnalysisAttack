{
 "cells": [
  {
   "cell_type": "code",
   "execution_count": 10,
   "outputs": [],
   "source": [
    "# This code is developed by Pooyan :D"
   ],
   "metadata": {
    "collapsed": false,
    "pycharm": {
     "name": "#%%\n"
    }
   }
  },
  {
   "cell_type": "code",
   "execution_count": 11,
   "outputs": [],
   "source": [
    "import PyPDF2"
   ],
   "metadata": {
    "collapsed": false,
    "pycharm": {
     "name": "#%%\n"
    }
   }
  },
  {
   "cell_type": "code",
   "execution_count": 12,
   "outputs": [],
   "source": [
    "readerStewart = PyPDF2.PdfReader('stewart.pdf')\n",
    "write = open('cipherText.txt', 'w')"
   ],
   "metadata": {
    "collapsed": false,
    "pycharm": {
     "name": "#%%\n"
    }
   }
  },
  {
   "cell_type": "code",
   "execution_count": 13,
   "outputs": [],
   "source": [
    "contents = ''\n",
    "for i in range(1356):\n",
    "    content = readerStewart.pages[i].extract_text()\n",
    "    contents.join(content)"
   ],
   "metadata": {
    "collapsed": false,
    "pycharm": {
     "name": "#%%\n"
    }
   }
  },
  {
   "cell_type": "code",
   "execution_count": 14,
   "outputs": [],
   "source": [
    "contents = contents.replace('a', 'I')\n",
    "contents = contents.replace('b', 'P')\n",
    "contents = contents.replace('c', 'Z')\n",
    "contents = contents.replace('d', 'H')\n",
    "contents = contents.replace('e', 'L')\n",
    "contents = contents.replace('f', 'Q')\n",
    "contents = contents.replace('g', 'A')\n",
    "contents = contents.replace('h', 'T')\n",
    "contents = contents.replace('i', 'O')\n",
    "contents = contents.replace('j', 'X')\n",
    "contents = contents.replace('k', 'W')\n",
    "contents = contents.replace('l', 'R')\n",
    "contents = contents.replace('m', 'B')\n",
    "contents = contents.replace('n', 'F')\n",
    "contents = contents.replace('o', 'C')\n",
    "contents = contents.replace('p', 'J')\n",
    "contents = contents.replace('q', 'Y')\n",
    "contents = contents.replace('r', 'D')\n",
    "contents = contents.replace('s', 'G')\n",
    "contents = contents.replace('t', 'E')\n",
    "contents = contents.replace('u', 'K')\n",
    "contents = contents.replace('v', 'N')\n",
    "contents = contents.replace('w', 'S')\n",
    "contents = contents.replace('x', 'U')\n",
    "contents = contents.replace('y', 'V')\n",
    "contents = contents.replace('z', 'M')"
   ],
   "metadata": {
    "collapsed": false,
    "pycharm": {
     "name": "#%%\n"
    }
   }
  },
  {
   "cell_type": "code",
   "execution_count": 15,
   "outputs": [],
   "source": [
    "for i in contents:\n",
    "    if i == 'A' or i == 'B' or i == 'C' or i == 'D' or i == 'E' or i == 'F' or i == 'G' or i == 'H' or i == 'I' or i == 'J' or i == 'K' or i == 'L' or i == 'M' or i == 'N' or i == 'O' or i == 'P' or i == 'Q' or i == 'R' or i == 'S' or i == 'T' or i == 'U' or i == 'V' or i == 'W' or i == 'X' or i == 'Y' or i == 'Z':\n",
    "        write.write(i)\n",
    "\n",
    "write.close()"
   ],
   "metadata": {
    "collapsed": false,
    "pycharm": {
     "name": "#%%\n"
    }
   }
  },
  {
   "cell_type": "code",
   "execution_count": 16,
   "outputs": [],
   "source": [
    "# Hope you like it ;)"
   ],
   "metadata": {
    "collapsed": false,
    "pycharm": {
     "name": "#%%\n"
    }
   }
  }
 ],
 "metadata": {
  "kernelspec": {
   "display_name": "Python 3",
   "language": "python",
   "name": "python3"
  },
  "language_info": {
   "codemirror_mode": {
    "name": "ipython",
    "version": 2
   },
   "file_extension": ".py",
   "mimetype": "text/x-python",
   "name": "python",
   "nbconvert_exporter": "python",
   "pygments_lexer": "ipython2",
   "version": "2.7.6"
  }
 },
 "nbformat": 4,
 "nbformat_minor": 0
}